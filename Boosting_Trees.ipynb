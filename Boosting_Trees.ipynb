{
  "nbformat": 4,
  "nbformat_minor": 0,
  "metadata": {
    "colab": {
      "name": "Boosting-Trees.ipynb",
      "provenance": [],
      "collapsed_sections": []
    },
    "kernelspec": {
      "name": "python3",
      "display_name": "Python 3"
    }
  },
  "cells": [
    {
      "cell_type": "code",
      "metadata": {
        "colab": {
          "base_uri": "https://localhost:8080/"
        },
        "id": "osoKIoxAYDzF",
        "outputId": "87928788-2d8d-48ab-e7bd-8d5708ebce88"
      },
      "source": [
        "import pickle\n",
        "import pandas as pd\n",
        "import numpy as np\n",
        "import csv\n",
        "import seaborn as sns\n",
        "from matplotlib import pyplot as plt\n",
        "from sklearn.model_selection import train_test_split\n",
        "from sklearn.preprocessing import MinMaxScaler\n",
        "from sklearn.linear_model import LogisticRegression\n",
        "from sklearn.metrics import confusion_matrix,accuracy_score\n",
        "from sklearn.ensemble import RandomForestClassifier,GradientBoostingClassifier\n",
        "from sklearn.svm import SVC\n",
        "\n",
        "FilePath = '/content/balanced_dataset.csv'\n",
        "\n",
        "DF = pd.read_csv(FilePath,delimiter=',')\n",
        "\n",
        "columns = list(DF.columns)\n",
        "\n",
        "columns = DF.columns\n",
        "\n",
        "# removing NAN values from RainToday \n",
        "DF = DF.dropna(subset=['RainToday'])\n",
        "c = 'RainToday'\n",
        "\n",
        "y = DF[['RainTomorrow']]\n",
        "DF=DF.drop(columns = ['RainTomorrow'])\n",
        "\n",
        "numerical_col = [i for i in DF.columns if (DF[i].dtype=='float64' or DF[i].dtype=='int64')]\n",
        "objects_col = [i for i in DF.columns if DF[i].dtype=='object']\n",
        "\n",
        "# checking skewness of the data\n",
        "for i in [0,1]:\n",
        "  print(f'Rain Tomorrow {i} :',len(y[y==i]))\n",
        "\n",
        "# Preprocessing based on the training data\n",
        "def pre_process(X,y):\n",
        "    X_train, X_test, y_train, y_test = train_test_split(X,y, test_size=0.2, stratify=y, random_state=0)\n",
        "    t = X_train.median()\n",
        "    X_train = X_train.fillna(t)\n",
        "    X_test = X_test.fillna(t)\n",
        "\n",
        "    # replacing nan values with mode\n",
        "    for t_df in [X_train, X_test]:\n",
        "        t_df['WindGustDir'].fillna(X_train['WindGustDir'].mode()[0], inplace=True)\n",
        "        t_df['WindDir9am'].fillna(X_train['WindDir9am'].mode()[0], inplace=True)\n",
        "        t_df['WindDir3pm'].fillna(X_train['WindDir3pm'].mode()[0], inplace=True)\n",
        "        t_df['RainToday'].fillna(X_train['RainToday'].mode()[0], inplace=True)\n",
        "\n",
        "    X_train = pd.concat([X_train[numerical_col], pd.get_dummies(X_train.Location,prefix='Location'),\n",
        "                        pd.get_dummies(X_train.WindGustDir,prefix='WindGustDir'),\n",
        "                        pd.get_dummies(X_train.WindDir9am,prefix='WindDir9am'),\n",
        "                        pd.get_dummies(X_train.WindDir3pm,prefix='WindDir3pm'),\n",
        "                        pd.get_dummies(X_train.RainToday,prefix='RainToday')], axis=1)\n",
        "\n",
        "    X_test = pd.concat([X_test[numerical_col], pd.get_dummies(X_test.Location,prefix='Location'),\n",
        "                        pd.get_dummies(X_test.WindGustDir,prefix='WindGustDir'),\n",
        "                        pd.get_dummies(X_test.WindDir9am,prefix='WindDir9am'),\n",
        "                        pd.get_dummies(X_test.WindDir3pm,prefix='WindDir3pm'),\n",
        "                        pd.get_dummies(X_test.RainToday,prefix='RainToday')], axis=1)\n",
        "    scaler = MinMaxScaler()\n",
        "    X_train = scaler.fit_transform(X_train)\n",
        "    X_test = scaler.transform(X_test)\n",
        "    return X_train, X_test, y_train, y_test"
      ],
      "execution_count": null,
      "outputs": [
        {
          "output_type": "stream",
          "text": [
            "Rain Tomorrow 0 : 62402\n",
            "Rain Tomorrow 1 : 62402\n"
          ],
          "name": "stdout"
        }
      ]
    },
    {
      "cell_type": "code",
      "metadata": {
        "colab": {
          "base_uri": "https://localhost:8080/"
        },
        "id": "anSfAUiJZ6Z5",
        "outputId": "66e99f92-0994-481a-c69e-d97f5c29ff12"
      },
      "source": [
        "X_train, X_test, y_train, y_test = pre_process(DF,y)\n",
        "# training Gradient Boosting \n",
        "clf = GradientBoostingClassifier(learning_rate=0.09,n_estimators=300,max_depth=6,random_state=1234)\n",
        "clf.fit(X_train, y_train)\n",
        "\n",
        "# getting probabilities\n",
        "y_pred_test = clf.predict_proba(X_test)[:,1]\n",
        "y_pred_test"
      ],
      "execution_count": null,
      "outputs": [
        {
          "output_type": "stream",
          "text": [
            "/usr/local/lib/python3.6/dist-packages/sklearn/ensemble/_gb.py:1454: DataConversionWarning: A column-vector y was passed when a 1d array was expected. Please change the shape of y to (n_samples, ), for example using ravel().\n",
            "  y = column_or_1d(y, warn=True)\n"
          ],
          "name": "stderr"
        },
        {
          "output_type": "execute_result",
          "data": {
            "text/plain": [
              "array([0.58979045, 0.12651289, 0.10632526, ..., 0.0664689 , 0.59426769,\n",
              "       0.80630219])"
            ]
          },
          "metadata": {
            "tags": []
          },
          "execution_count": 3
        }
      ]
    },
    {
      "cell_type": "code",
      "metadata": {
        "colab": {
          "base_uri": "https://localhost:8080/"
        },
        "id": "UKGMJgrBbBIJ",
        "outputId": "0effa63a-7630-4cd9-b302-d01473f8dc81"
      },
      "source": [
        "# setting threshold for classification \n",
        "thre = 0.5\n",
        "y_pred_test = np.where(y_pred_test>thre,1,0)\n",
        "print(\"threshold =\",thre)"
      ],
      "execution_count": null,
      "outputs": [
        {
          "output_type": "stream",
          "text": [
            "threshold = 0.5\n"
          ],
          "name": "stdout"
        }
      ]
    },
    {
      "cell_type": "code",
      "metadata": {
        "colab": {
          "base_uri": "https://localhost:8080/"
        },
        "id": "FzAH-JvRbFIK",
        "outputId": "88187b6f-4011-4587-eeab-10d22c90cc2c"
      },
      "source": [
        "# predicting values\n",
        "y_pred_train=clf.predict(X_train)\n",
        "test_accu = accuracy_score(y_test, y_pred_test)\n",
        "train_acc = accuracy_score(y_train,y_pred_train)\n",
        "\n",
        "print('Model test accuracy score : {0:0.4f}'. format(test_accu))\n",
        "print('Model train accuracy score : {0:0.4f}'. format(train_acc))\n",
        "\n",
        "#confusion matrix\n",
        "cm = confusion_matrix(y_test, y_pred_test)\n",
        "cm_matrix = pd.DataFrame(data=cm, columns=['Predict Negative:0', 'Predict Positive:1'], \n",
        "                              index=['Actual Negative:0', 'Actual positive:1'])\n",
        "print(cm_matrix)\n",
        "\n",
        "v_c=y_test.value_counts()\n",
        "v_c\n",
        "\n",
        "# null Accuracy \n",
        "null_accuracy = v_c[0]/sum(v_c)\n",
        "\n",
        "print(\"Null accuracy\",null_accuracy)\n",
        "# pickle.dump(clf,open(\"Boosting-trees.model\",'wb'))"
      ],
      "execution_count": null,
      "outputs": [
        {
          "output_type": "stream",
          "text": [
            "Model test accuracy score : 0.8032\n",
            "Model train accuracy score : 0.8725\n",
            "                   Predict Negative:0  Predict Positive:1\n",
            "Actual Negative:0                4997                1244\n",
            "Actual positive:1                1212                5028\n",
            "Null accuracy RainTomorrow\n",
            "0               0.50004\n",
            "dtype: float64\n"
          ],
          "name": "stdout"
        }
      ]
    }
  ]
}
